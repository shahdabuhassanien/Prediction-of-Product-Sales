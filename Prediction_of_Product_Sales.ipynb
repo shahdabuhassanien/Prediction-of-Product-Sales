{
  "nbformat": 4,
  "nbformat_minor": 0,
  "metadata": {
    "colab": {
      "provenance": [],
      "authorship_tag": "ABX9TyOUxCjZa9vQZi3FeZMggxq7",
      "include_colab_link": true
    },
    "kernelspec": {
      "name": "python3",
      "display_name": "Python 3"
    },
    "language_info": {
      "name": "python"
    }
  },
  "cells": [
    {
      "cell_type": "markdown",
      "metadata": {
        "id": "view-in-github",
        "colab_type": "text"
      },
      "source": [
        "<a href=\"https://colab.research.google.com/github/shahdabuhassanien/Prediction-of-Product-Sales/blob/main/Prediction_of_Product_Sales.ipynb\" target=\"_parent\"><img src=\"https://colab.research.google.com/assets/colab-badge.svg\" alt=\"Open In Colab\"/></a>"
      ]
    },
    {
      "cell_type": "markdown",
      "source": [
        "# Prediction of Product Sales\n",
        "- Author :Shahd Abu Hassanien"
      ],
      "metadata": {
        "id": "qMLNkMFEnQ0Q"
      }
    },
    {
      "cell_type": "markdown",
      "source": [
        "##Project Overview"
      ],
      "metadata": {
        "id": "wa4AfEhsoFdS"
      }
    },
    {
      "cell_type": "markdown",
      "source": [
        "##Load and Inspect Data"
      ],
      "metadata": {
        "id": "0DfA_yvOoPw6"
      }
    },
    {
      "cell_type": "code",
      "execution_count": null,
      "metadata": {
        "id": "4YYxRWe-mbWd"
      },
      "outputs": [],
      "source": []
    },
    {
      "cell_type": "markdown",
      "source": [
        "##Clean Data"
      ],
      "metadata": {
        "id": "QPtpZqg0oY78"
      }
    },
    {
      "cell_type": "code",
      "source": [],
      "metadata": {
        "id": "XQPtBACfoe9N"
      },
      "execution_count": null,
      "outputs": []
    },
    {
      "cell_type": "markdown",
      "source": [
        "##Exploratory Data Analysis"
      ],
      "metadata": {
        "id": "ZSj0TbmAolTD"
      }
    },
    {
      "cell_type": "code",
      "source": [],
      "metadata": {
        "id": "DbVAs9N-oqWr"
      },
      "execution_count": null,
      "outputs": []
    },
    {
      "cell_type": "markdown",
      "source": [
        "##Feature Inspection"
      ],
      "metadata": {
        "id": "nTB5M2yKor6R"
      }
    },
    {
      "cell_type": "code",
      "source": [],
      "metadata": {
        "id": "GF1lKEknpAdS"
      },
      "execution_count": null,
      "outputs": []
    }
  ]
}